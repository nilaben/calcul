{
 "cells": [
  {
   "cell_type": "code",
   "execution_count": 24,
   "id": "4ca7032f",
   "metadata": {},
   "outputs": [
    {
     "name": "stdout",
     "output_type": "stream",
     "text": [
      "Enter the Number 1: 2.5\n",
      "Enter the Number 2: 2.5\n",
      "Enter the operator+\n",
      "5.0\n"
     ]
    }
   ],
   "source": [
    "num1=float(input(\"Enter the Number 1: \"))\n",
    "num2=float(input(\"Enter the Number 2: \"))\n",
    "operator=input(\"Enter the operator\")\n",
    "if operator=='+':\n",
    "    print(num1+num2)\n",
    "elif operator==\"-\":\n",
    "    print(num1-num2)\n",
    "elif operator==\"*\":\n",
    "    print(num1*num2)\n",
    "elif operator==\"/\":\n",
    "    print(num1/num2)\n",
    "elif operator=='%':\n",
    "    print(\"num1/num2\")\n",
    "else:\n",
    "    print('Invalid Operator')"
   ]
  },
  {
   "cell_type": "code",
   "execution_count": null,
   "id": "7f0bc0f0",
   "metadata": {},
   "outputs": [],
   "source": []
  },
  {
   "cell_type": "code",
   "execution_count": null,
   "id": "9dadca00",
   "metadata": {},
   "outputs": [],
   "source": []
  }
 ],
 "metadata": {
  "kernelspec": {
   "display_name": "Python 3 (ipykernel)",
   "language": "python",
   "name": "python3"
  },
  "language_info": {
   "codemirror_mode": {
    "name": "ipython",
    "version": 3
   },
   "file_extension": ".py",
   "mimetype": "text/x-python",
   "name": "python",
   "nbconvert_exporter": "python",
   "pygments_lexer": "ipython3",
   "version": "3.9.12"
  }
 },
 "nbformat": 4,
 "nbformat_minor": 5
}
